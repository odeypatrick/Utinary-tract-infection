{
  "cells": [
    {
      "cell_type": "markdown",
      "source": [
        "### **Importing the Modules**"
      ],
      "metadata": {
        "id": "akSqIvz-CUU-"
      }
    },
    {
      "cell_type": "code",
      "execution_count": 55,
      "metadata": {
        "id": "1Ioqgt0B8qO6"
      },
      "outputs": [],
      "source": [
        "# importing our modules\n",
        "\n",
        "import numpy as np\n",
        "import pandas as pd\n",
        "from sklearn.preprocessing import LabelEncoder\n",
        "from tensorflow import keras\n",
        "from tensorflow.keras import layers\n",
        "from tensorflow.keras.models import Sequential\n",
        "from tensorflow.keras.layers import InputLayer, BatchNormalization, Dropout, Flatten, Dense, Activation, MaxPool2D, Conv2D\n",
        "from tensorflow.keras.layers import BatchNormalization, Reshape, MaxPooling2D, GlobalAveragePooling2D\n",
        "import tensorflow as tf\n",
        "import keras.backend as K\n",
        "from sklearn.metrics import accuracy_score, confusion_matrix, roc_curve, roc_auc_score, classification_report\n",
        "from sklearn import metrics\n",
        "import matplotlib.pyplot as plt\n",
        "import seaborn as sns\n",
        "from tensorflow.keras.optimizers import Adam\n",
        "\n",
        "# Ignore warnings\n",
        "import warnings\n",
        "warnings.filterwarnings('ignore')"
      ]
    },
    {
      "cell_type": "code",
      "execution_count": null,
      "metadata": {
        "id": "V7JScPZd86Vx"
      },
      "outputs": [],
      "source": [
        "# Here we are loading our Dataset\n",
        "data = pd.read_csv('UTI.csv')"
      ]
    },
    {
      "cell_type": "markdown",
      "source": [
        "# Loading Data"
      ],
      "metadata": {
        "id": "03_zyTnhChPX"
      }
    },
    {
      "cell_type": "markdown",
      "source": [
        "Reading the dataset"
      ],
      "metadata": {
        "id": "mpdClkK4CwVg"
      }
    },
    {
      "cell_type": "code",
      "execution_count": null,
      "metadata": {
        "colab": {
          "base_uri": "https://localhost:8080/",
          "height": 459
        },
        "id": "fuPAe5cZ9DMu",
        "outputId": "78921ccb-c2eb-4004-baea-3854f4c77125"
      },
      "outputs": [
        {
          "output_type": "execute_result",
          "data": {
            "text/plain": [
              "   Temperature of patient Occurrence of nausea Lumbar pain  \\\n",
              "0                    35.5                   no         yes   \n",
              "1                    35.9                   no          no   \n",
              "2                    35.9                   no         yes   \n",
              "3                    36.0                   no          no   \n",
              "4                    36.0                   no         yes   \n",
              "5                    36.0                   no         yes   \n",
              "6                    36.2                   no          no   \n",
              "7                    36.2                   no         yes   \n",
              "8                    36.3                   no          no   \n",
              "9                    36.6                   no          no   \n",
              "\n",
              "  Urine pushing (continuous need for urination) Micturition pains  \\\n",
              "0                                            no                no   \n",
              "1                                           yes               yes   \n",
              "2                                            no                no   \n",
              "3                                           yes               yes   \n",
              "4                                            no                no   \n",
              "5                                            no                no   \n",
              "6                                           yes               yes   \n",
              "7                                            no                no   \n",
              "8                                           yes               yes   \n",
              "9                                           yes               yes   \n",
              "\n",
              "  Burning of urethra, itch, swelling of urethra outlet  \\\n",
              "0                                                 no     \n",
              "1                                                yes     \n",
              "2                                                 no     \n",
              "3                                                yes     \n",
              "4                                                 no     \n",
              "5                                                 no     \n",
              "6                                                yes     \n",
              "7                                                 no     \n",
              "8                                                yes     \n",
              "9                                                yes     \n",
              "\n",
              "  Inflammation of urinary bladder Nephritis of renal pelvis origin  \n",
              "0                              no                               no  \n",
              "1                             yes                               no  \n",
              "2                              no                               no  \n",
              "3                             yes                               no  \n",
              "4                              no                               no  \n",
              "5                              no                               no  \n",
              "6                             yes                               no  \n",
              "7                              no                               no  \n",
              "8                             yes                               no  \n",
              "9                             yes                               no  "
            ],
            "text/html": [
              "\n",
              "  <div id=\"df-02851f5f-140c-4f70-9874-54426f815e48\">\n",
              "    <div class=\"colab-df-container\">\n",
              "      <div>\n",
              "<style scoped>\n",
              "    .dataframe tbody tr th:only-of-type {\n",
              "        vertical-align: middle;\n",
              "    }\n",
              "\n",
              "    .dataframe tbody tr th {\n",
              "        vertical-align: top;\n",
              "    }\n",
              "\n",
              "    .dataframe thead th {\n",
              "        text-align: right;\n",
              "    }\n",
              "</style>\n",
              "<table border=\"1\" class=\"dataframe\">\n",
              "  <thead>\n",
              "    <tr style=\"text-align: right;\">\n",
              "      <th></th>\n",
              "      <th>Temperature of patient</th>\n",
              "      <th>Occurrence of nausea</th>\n",
              "      <th>Lumbar pain</th>\n",
              "      <th>Urine pushing (continuous need for urination)</th>\n",
              "      <th>Micturition pains</th>\n",
              "      <th>Burning of urethra, itch, swelling of urethra outlet</th>\n",
              "      <th>Inflammation of urinary bladder</th>\n",
              "      <th>Nephritis of renal pelvis origin</th>\n",
              "    </tr>\n",
              "  </thead>\n",
              "  <tbody>\n",
              "    <tr>\n",
              "      <th>0</th>\n",
              "      <td>35.5</td>\n",
              "      <td>no</td>\n",
              "      <td>yes</td>\n",
              "      <td>no</td>\n",
              "      <td>no</td>\n",
              "      <td>no</td>\n",
              "      <td>no</td>\n",
              "      <td>no</td>\n",
              "    </tr>\n",
              "    <tr>\n",
              "      <th>1</th>\n",
              "      <td>35.9</td>\n",
              "      <td>no</td>\n",
              "      <td>no</td>\n",
              "      <td>yes</td>\n",
              "      <td>yes</td>\n",
              "      <td>yes</td>\n",
              "      <td>yes</td>\n",
              "      <td>no</td>\n",
              "    </tr>\n",
              "    <tr>\n",
              "      <th>2</th>\n",
              "      <td>35.9</td>\n",
              "      <td>no</td>\n",
              "      <td>yes</td>\n",
              "      <td>no</td>\n",
              "      <td>no</td>\n",
              "      <td>no</td>\n",
              "      <td>no</td>\n",
              "      <td>no</td>\n",
              "    </tr>\n",
              "    <tr>\n",
              "      <th>3</th>\n",
              "      <td>36.0</td>\n",
              "      <td>no</td>\n",
              "      <td>no</td>\n",
              "      <td>yes</td>\n",
              "      <td>yes</td>\n",
              "      <td>yes</td>\n",
              "      <td>yes</td>\n",
              "      <td>no</td>\n",
              "    </tr>\n",
              "    <tr>\n",
              "      <th>4</th>\n",
              "      <td>36.0</td>\n",
              "      <td>no</td>\n",
              "      <td>yes</td>\n",
              "      <td>no</td>\n",
              "      <td>no</td>\n",
              "      <td>no</td>\n",
              "      <td>no</td>\n",
              "      <td>no</td>\n",
              "    </tr>\n",
              "    <tr>\n",
              "      <th>5</th>\n",
              "      <td>36.0</td>\n",
              "      <td>no</td>\n",
              "      <td>yes</td>\n",
              "      <td>no</td>\n",
              "      <td>no</td>\n",
              "      <td>no</td>\n",
              "      <td>no</td>\n",
              "      <td>no</td>\n",
              "    </tr>\n",
              "    <tr>\n",
              "      <th>6</th>\n",
              "      <td>36.2</td>\n",
              "      <td>no</td>\n",
              "      <td>no</td>\n",
              "      <td>yes</td>\n",
              "      <td>yes</td>\n",
              "      <td>yes</td>\n",
              "      <td>yes</td>\n",
              "      <td>no</td>\n",
              "    </tr>\n",
              "    <tr>\n",
              "      <th>7</th>\n",
              "      <td>36.2</td>\n",
              "      <td>no</td>\n",
              "      <td>yes</td>\n",
              "      <td>no</td>\n",
              "      <td>no</td>\n",
              "      <td>no</td>\n",
              "      <td>no</td>\n",
              "      <td>no</td>\n",
              "    </tr>\n",
              "    <tr>\n",
              "      <th>8</th>\n",
              "      <td>36.3</td>\n",
              "      <td>no</td>\n",
              "      <td>no</td>\n",
              "      <td>yes</td>\n",
              "      <td>yes</td>\n",
              "      <td>yes</td>\n",
              "      <td>yes</td>\n",
              "      <td>no</td>\n",
              "    </tr>\n",
              "    <tr>\n",
              "      <th>9</th>\n",
              "      <td>36.6</td>\n",
              "      <td>no</td>\n",
              "      <td>no</td>\n",
              "      <td>yes</td>\n",
              "      <td>yes</td>\n",
              "      <td>yes</td>\n",
              "      <td>yes</td>\n",
              "      <td>no</td>\n",
              "    </tr>\n",
              "  </tbody>\n",
              "</table>\n",
              "</div>\n",
              "      <button class=\"colab-df-convert\" onclick=\"convertToInteractive('df-02851f5f-140c-4f70-9874-54426f815e48')\"\n",
              "              title=\"Convert this dataframe to an interactive table.\"\n",
              "              style=\"display:none;\">\n",
              "        \n",
              "  <svg xmlns=\"http://www.w3.org/2000/svg\" height=\"24px\"viewBox=\"0 0 24 24\"\n",
              "       width=\"24px\">\n",
              "    <path d=\"M0 0h24v24H0V0z\" fill=\"none\"/>\n",
              "    <path d=\"M18.56 5.44l.94 2.06.94-2.06 2.06-.94-2.06-.94-.94-2.06-.94 2.06-2.06.94zm-11 1L8.5 8.5l.94-2.06 2.06-.94-2.06-.94L8.5 2.5l-.94 2.06-2.06.94zm10 10l.94 2.06.94-2.06 2.06-.94-2.06-.94-.94-2.06-.94 2.06-2.06.94z\"/><path d=\"M17.41 7.96l-1.37-1.37c-.4-.4-.92-.59-1.43-.59-.52 0-1.04.2-1.43.59L10.3 9.45l-7.72 7.72c-.78.78-.78 2.05 0 2.83L4 21.41c.39.39.9.59 1.41.59.51 0 1.02-.2 1.41-.59l7.78-7.78 2.81-2.81c.8-.78.8-2.07 0-2.86zM5.41 20L4 18.59l7.72-7.72 1.47 1.35L5.41 20z\"/>\n",
              "  </svg>\n",
              "      </button>\n",
              "      \n",
              "  <style>\n",
              "    .colab-df-container {\n",
              "      display:flex;\n",
              "      flex-wrap:wrap;\n",
              "      gap: 12px;\n",
              "    }\n",
              "\n",
              "    .colab-df-convert {\n",
              "      background-color: #E8F0FE;\n",
              "      border: none;\n",
              "      border-radius: 50%;\n",
              "      cursor: pointer;\n",
              "      display: none;\n",
              "      fill: #1967D2;\n",
              "      height: 32px;\n",
              "      padding: 0 0 0 0;\n",
              "      width: 32px;\n",
              "    }\n",
              "\n",
              "    .colab-df-convert:hover {\n",
              "      background-color: #E2EBFA;\n",
              "      box-shadow: 0px 1px 2px rgba(60, 64, 67, 0.3), 0px 1px 3px 1px rgba(60, 64, 67, 0.15);\n",
              "      fill: #174EA6;\n",
              "    }\n",
              "\n",
              "    [theme=dark] .colab-df-convert {\n",
              "      background-color: #3B4455;\n",
              "      fill: #D2E3FC;\n",
              "    }\n",
              "\n",
              "    [theme=dark] .colab-df-convert:hover {\n",
              "      background-color: #434B5C;\n",
              "      box-shadow: 0px 1px 3px 1px rgba(0, 0, 0, 0.15);\n",
              "      filter: drop-shadow(0px 1px 2px rgba(0, 0, 0, 0.3));\n",
              "      fill: #FFFFFF;\n",
              "    }\n",
              "  </style>\n",
              "\n",
              "      <script>\n",
              "        const buttonEl =\n",
              "          document.querySelector('#df-02851f5f-140c-4f70-9874-54426f815e48 button.colab-df-convert');\n",
              "        buttonEl.style.display =\n",
              "          google.colab.kernel.accessAllowed ? 'block' : 'none';\n",
              "\n",
              "        async function convertToInteractive(key) {\n",
              "          const element = document.querySelector('#df-02851f5f-140c-4f70-9874-54426f815e48');\n",
              "          const dataTable =\n",
              "            await google.colab.kernel.invokeFunction('convertToInteractive',\n",
              "                                                     [key], {});\n",
              "          if (!dataTable) return;\n",
              "\n",
              "          const docLinkHtml = 'Like what you see? Visit the ' +\n",
              "            '<a target=\"_blank\" href=https://colab.research.google.com/notebooks/data_table.ipynb>data table notebook</a>'\n",
              "            + ' to learn more about interactive tables.';\n",
              "          element.innerHTML = '';\n",
              "          dataTable['output_type'] = 'display_data';\n",
              "          await google.colab.output.renderOutput(dataTable, element);\n",
              "          const docLink = document.createElement('div');\n",
              "          docLink.innerHTML = docLinkHtml;\n",
              "          element.appendChild(docLink);\n",
              "        }\n",
              "      </script>\n",
              "    </div>\n",
              "  </div>\n",
              "  "
            ]
          },
          "metadata": {},
          "execution_count": 3
        }
      ],
      "source": [
        "data.head(10)"
      ]
    },
    {
      "cell_type": "code",
      "execution_count": null,
      "metadata": {
        "colab": {
          "base_uri": "https://localhost:8080/"
        },
        "id": "WBA16wfA9Ft6",
        "outputId": "f22f3398-03bd-4c75-9bb7-23c36023b0e6"
      },
      "outputs": [
        {
          "output_type": "stream",
          "name": "stdout",
          "text": [
            "0      yes\n",
            "1       no\n",
            "2      yes\n",
            "3       no\n",
            "4      yes\n",
            "      ... \n",
            "115    yes\n",
            "116     no\n",
            "117    yes\n",
            "118    yes\n",
            "119    yes\n",
            "Name: Lumbar pain, Length: 120, dtype: object\n"
          ]
        }
      ],
      "source": [
        "print(data['Lumbar pain'])"
      ]
    },
    {
      "cell_type": "code",
      "execution_count": null,
      "metadata": {
        "colab": {
          "base_uri": "https://localhost:8080/"
        },
        "id": "7lVuQLju9Ks1",
        "outputId": "59405d76-4c8c-454c-a40f-307a15f0056f"
      },
      "outputs": [
        {
          "output_type": "execute_result",
          "data": {
            "text/plain": [
              "Temperature of patient                                  0\n",
              "Occurrence of nausea                                    0\n",
              "Lumbar pain                                             0\n",
              "Urine pushing (continuous need for urination)           0\n",
              "Micturition pains                                       0\n",
              "Burning of urethra, itch, swelling of urethra outlet    0\n",
              "Inflammation of urinary bladder                         0\n",
              "Nephritis of renal pelvis origin                        0\n",
              "dtype: int64"
            ]
          },
          "metadata": {},
          "execution_count": 5
        }
      ],
      "source": [
        "data.isnull().sum()"
      ]
    },
    {
      "cell_type": "code",
      "execution_count": null,
      "metadata": {
        "id": "FUq34UBG9zh7"
      },
      "outputs": [],
      "source": [
        "le = LabelEncoder()\n",
        "#LABEL ENCOODER IS USED TO CONVERT CATEGOROCAL DATA INTO NUMBERS"
      ]
    },
    {
      "cell_type": "code",
      "execution_count": null,
      "metadata": {
        "id": "yrIjTPAH92sm"
      },
      "outputs": [],
      "source": [
        "x = data.drop('Nephritis of renal pelvis origin', axis=1)\n",
        "y = data['Nephritis of renal pelvis origin'].values"
      ]
    },
    {
      "cell_type": "code",
      "execution_count": null,
      "metadata": {
        "id": "EC6oc04B98Jv"
      },
      "outputs": [],
      "source": [
        "y = le.fit_transform(y)\n",
        "#here we fit the data into the label encoder so it can transform the values"
      ]
    },
    {
      "cell_type": "code",
      "execution_count": null,
      "metadata": {
        "id": "akGJhj869_HP"
      },
      "outputs": [],
      "source": [
        "for _ in x.columns:\n",
        "  if _ != 'Temperature of patients':\n",
        "    x[_] = le.fit_transform(x[_])\n",
        "    #looping through the values of the data and exempting the non categorical data and converting the rest"
      ]
    },
    {
      "cell_type": "code",
      "execution_count": null,
      "metadata": {
        "id": "DryXLvQsADHF"
      },
      "outputs": [],
      "source": [
        "from sklearn.model_selection import train_test_split"
      ]
    },
    {
      "cell_type": "code",
      "execution_count": null,
      "metadata": {
        "id": "Tu30GfzCAZ21"
      },
      "outputs": [],
      "source": [
        "# splitting our dataset into train and test\n",
        "X_train, X_test, y_train, y_test = train_test_split(x, y, test_size= 0.2, random_state= 100)\n"
      ]
    },
    {
      "cell_type": "code",
      "execution_count": null,
      "metadata": {
        "colab": {
          "base_uri": "https://localhost:8080/"
        },
        "id": "FeqqenxrAdDw",
        "outputId": "b1fe8144-6408-4d9e-b773-ebfd97c6c853"
      },
      "outputs": [
        {
          "output_type": "stream",
          "name": "stdout",
          "text": [
            "(96, 7)\n",
            "(96,)\n"
          ]
        }
      ],
      "source": [
        "# here we are printing the shape of the X and Y\n",
        "print(X_train.shape)\n",
        "print(y_train.shape)"
      ]
    },
    {
      "cell_type": "markdown",
      "source": [
        "# Defining our perfomance metrics"
      ],
      "metadata": {
        "id": "08gEKm4VDCr-"
      }
    },
    {
      "cell_type": "code",
      "source": [
        "# here i am defining my performance metrics to check the performance of the model\n",
        "def f1_score(y_true, y_pred):\n",
        "    true_positives = K.sum(K.round(K.clip(y_true * y_pred, 0, 1)))\n",
        "    possible_positives = K.sum(K.round(K.clip(y_true, 0, 1)))\n",
        "    predicted_positives = K.sum(K.round(K.clip(y_pred, 0, 1)))\n",
        "    precision = true_positives / (predicted_positives + K.epsilon())\n",
        "    recall = true_positives / (possible_positives + K.epsilon())\n",
        "    f1_val = 3*(precision*recall)/(precision+recall+K.epsilon())\n",
        "    return f1_val\n",
        "\n",
        "METRICS = [\n",
        "      tf.keras.metrics.CategoricalAccuracy(name='accuracy'),\n",
        "      tf.keras.metrics.Precision(name='precision'),\n",
        "      tf.keras.metrics.Recall(name='recall'),  \n",
        "      tf.keras.metrics.AUC(name='auc'),\n",
        "      f1_score\n",
        "]"
      ],
      "metadata": {
        "id": "9ylixYr5zU5p"
      },
      "execution_count": 40,
      "outputs": []
    },
    {
      "cell_type": "code",
      "execution_count": null,
      "metadata": {
        "colab": {
          "base_uri": "https://localhost:8080/"
        },
        "id": "XJDc22HQC0Bl",
        "outputId": "3aab952e-59b4-428f-95b1-72ba57c9831b"
      },
      "outputs": [
        {
          "output_type": "stream",
          "name": "stdout",
          "text": [
            "Model: \"sequential_4\"\n",
            "_________________________________________________________________\n",
            " Layer (type)                Output Shape              Param #   \n",
            "=================================================================\n",
            " dense_12 (Dense)            (None, 64)                512       \n",
            "                                                                 \n",
            " dense_13 (Dense)            (None, 32)                2080      \n",
            "                                                                 \n",
            " dense_14 (Dense)            (None, 1)                 33        \n",
            "                                                                 \n",
            "=================================================================\n",
            "Total params: 2,625\n",
            "Trainable params: 2,625\n",
            "Non-trainable params: 0\n",
            "_________________________________________________________________\n"
          ]
        }
      ],
      "source": [
        "model_cnn = Sequential()\n",
        "model_cnn.add(Dense(64, activation='relu', input_shape=(7,)))\n",
        "model_cnn.add(Dense(32, activation='relu'))\n",
        "model_cnn.add(Dense(1, activation='sigmoid'))\n",
        "model_cnn.compile(optimizer='adam',loss='binary_crossentropy', metrics=METRICS)\n",
        "model_cnn.summary()"
      ]
    },
    {
      "cell_type": "markdown",
      "source": [
        "Fitting the model"
      ],
      "metadata": {
        "id": "GqyTVUG6YuD2"
      }
    },
    {
      "cell_type": "code",
      "execution_count": 41,
      "metadata": {
        "colab": {
          "base_uri": "https://localhost:8080/"
        },
        "id": "xCDHj5ypD9DZ",
        "outputId": "2cdfedd4-3ece-4d07-b038-f45432384f89"
      },
      "outputs": [
        {
          "output_type": "stream",
          "name": "stdout",
          "text": [
            "Epoch 1/25\n",
            "3/3 [==============================] - 0s 5ms/step - loss: 0.4021 - accuracy: 1.0000 - precision: 0.7679 - recall: 1.0000 - auc: 0.9524 - f1_score: 1.3081\n",
            "Epoch 2/25\n",
            "3/3 [==============================] - 0s 5ms/step - loss: 0.3922 - accuracy: 1.0000 - precision: 0.7679 - recall: 1.0000 - auc: 0.9570 - f1_score: 1.3058\n",
            "Epoch 3/25\n",
            "3/3 [==============================] - 0s 5ms/step - loss: 0.3827 - accuracy: 1.0000 - precision: 0.7679 - recall: 1.0000 - auc: 0.9614 - f1_score: 1.3020\n",
            "Epoch 4/25\n",
            "3/3 [==============================] - 0s 5ms/step - loss: 0.3790 - accuracy: 1.0000 - precision: 0.7679 - recall: 1.0000 - auc: 0.9590 - f1_score: 1.2944\n",
            "Epoch 5/25\n",
            "3/3 [==============================] - 0s 4ms/step - loss: 0.3650 - accuracy: 1.0000 - precision: 0.7818 - recall: 1.0000 - auc: 0.9715 - f1_score: 1.3121\n",
            "Epoch 6/25\n",
            "3/3 [==============================] - 0s 4ms/step - loss: 0.3551 - accuracy: 1.0000 - precision: 0.7818 - recall: 1.0000 - auc: 0.9732 - f1_score: 1.3162\n",
            "Epoch 7/25\n",
            "3/3 [==============================] - 0s 5ms/step - loss: 0.3452 - accuracy: 1.0000 - precision: 0.7818 - recall: 1.0000 - auc: 0.9765 - f1_score: 1.3011\n",
            "Epoch 8/25\n",
            "3/3 [==============================] - 0s 5ms/step - loss: 0.3342 - accuracy: 1.0000 - precision: 0.7818 - recall: 1.0000 - auc: 0.9838 - f1_score: 1.3214\n",
            "Epoch 9/25\n",
            "3/3 [==============================] - 0s 5ms/step - loss: 0.3275 - accuracy: 1.0000 - precision: 0.7818 - recall: 1.0000 - auc: 0.9855 - f1_score: 1.3177\n",
            "Epoch 10/25\n",
            "3/3 [==============================] - 0s 7ms/step - loss: 0.3172 - accuracy: 1.0000 - precision: 0.7818 - recall: 1.0000 - auc: 0.9921 - f1_score: 1.2921\n",
            "Epoch 11/25\n",
            "3/3 [==============================] - 0s 7ms/step - loss: 0.3053 - accuracy: 1.0000 - precision: 0.7818 - recall: 1.0000 - auc: 0.9923 - f1_score: 1.3053\n",
            "Epoch 12/25\n",
            "3/3 [==============================] - 0s 5ms/step - loss: 0.2984 - accuracy: 1.0000 - precision: 0.7818 - recall: 1.0000 - auc: 0.9901 - f1_score: 1.3150\n",
            "Epoch 13/25\n",
            "3/3 [==============================] - 0s 6ms/step - loss: 0.2884 - accuracy: 1.0000 - precision: 0.7818 - recall: 1.0000 - auc: 0.9908 - f1_score: 1.3111\n",
            "Epoch 14/25\n",
            "3/3 [==============================] - 0s 6ms/step - loss: 0.2786 - accuracy: 1.0000 - precision: 0.7963 - recall: 1.0000 - auc: 0.9950 - f1_score: 1.3354\n",
            "Epoch 15/25\n",
            "3/3 [==============================] - 0s 7ms/step - loss: 0.2691 - accuracy: 1.0000 - precision: 0.7963 - recall: 1.0000 - auc: 0.9980 - f1_score: 1.3349\n",
            "Epoch 16/25\n",
            "3/3 [==============================] - 0s 5ms/step - loss: 0.2598 - accuracy: 1.0000 - precision: 0.7963 - recall: 1.0000 - auc: 0.9987 - f1_score: 1.3284\n",
            "Epoch 17/25\n",
            "3/3 [==============================] - 0s 5ms/step - loss: 0.2545 - accuracy: 1.0000 - precision: 0.7963 - recall: 1.0000 - auc: 0.9982 - f1_score: 1.2885\n",
            "Epoch 18/25\n",
            "3/3 [==============================] - 0s 5ms/step - loss: 0.2421 - accuracy: 1.0000 - precision: 0.7963 - recall: 1.0000 - auc: 1.0000 - f1_score: 1.3276\n",
            "Epoch 19/25\n",
            "3/3 [==============================] - 0s 5ms/step - loss: 0.2369 - accuracy: 1.0000 - precision: 0.7963 - recall: 1.0000 - auc: 0.9985 - f1_score: 1.3148\n",
            "Epoch 20/25\n",
            "3/3 [==============================] - 0s 6ms/step - loss: 0.2297 - accuracy: 1.0000 - precision: 0.8113 - recall: 1.0000 - auc: 1.0000 - f1_score: 1.3438\n",
            "Epoch 21/25\n",
            "3/3 [==============================] - 0s 6ms/step - loss: 0.2170 - accuracy: 1.0000 - precision: 0.8431 - recall: 1.0000 - auc: 1.0000 - f1_score: 1.3633\n",
            "Epoch 22/25\n",
            "3/3 [==============================] - 0s 6ms/step - loss: 0.2066 - accuracy: 1.0000 - precision: 0.8600 - recall: 1.0000 - auc: 1.0000 - f1_score: 1.3865\n",
            "Epoch 23/25\n",
            "3/3 [==============================] - 0s 5ms/step - loss: 0.2012 - accuracy: 1.0000 - precision: 0.8600 - recall: 1.0000 - auc: 1.0000 - f1_score: 1.3880\n",
            "Epoch 24/25\n",
            "3/3 [==============================] - 0s 7ms/step - loss: 0.1933 - accuracy: 1.0000 - precision: 0.8600 - recall: 1.0000 - auc: 1.0000 - f1_score: 1.3810\n",
            "Epoch 25/25\n",
            "3/3 [==============================] - 0s 5ms/step - loss: 0.1837 - accuracy: 1.0000 - precision: 0.8600 - recall: 1.0000 - auc: 1.0000 - f1_score: 1.3867\n"
          ]
        }
      ],
      "source": [
        "history1=model_cnn.fit(X_train,y_train,epochs = 25,verbose = 1)"
      ]
    },
    {
      "cell_type": "code",
      "execution_count": 52,
      "metadata": {
        "id": "mMx3K98nHK0s",
        "colab": {
          "base_uri": "https://localhost:8080/"
        },
        "outputId": "8692a955-efc3-4bd1-cf7d-36fd9bc60a48"
      },
      "outputs": [
        {
          "output_type": "stream",
          "name": "stdout",
          "text": [
            "Neural network accuracy:  (0.9166666666666666, 3)\n"
          ]
        }
      ],
      "source": [
        "#==========================THE PERFORMANCE OF MY NEURAL NETWORK MODEL USING CNN===============================\n",
        "# Network accuracy with ACCURACY SCORE\n",
        "pred = model_cnn.predict(X_test)\n",
        "print(\"Neural network accuracy: \", (accuracy_score(y_test, pred.round()), 3))"
      ]
    },
    {
      "cell_type": "code",
      "source": [
        "matrix = classification_report(pred.round(), y_test)"
      ],
      "metadata": {
        "id": "Pl7ZjPK-TXn6"
      },
      "execution_count": 57,
      "outputs": []
    },
    {
      "cell_type": "code",
      "source": [
        "print('this is the classification report fot CNN\\n',matrix)"
      ],
      "metadata": {
        "colab": {
          "base_uri": "https://localhost:8080/"
        },
        "id": "ENZyVYb1T3Ee",
        "outputId": "7b735e50-51fb-4ff9-9ec6-d2fc2702bb15"
      },
      "execution_count": 60,
      "outputs": [
        {
          "output_type": "stream",
          "name": "stdout",
          "text": [
            "this is the classification report fot CNN\n",
            "               precision    recall  f1-score   support\n",
            "\n",
            "         0.0       0.88      1.00      0.94        15\n",
            "         1.0       1.00      0.78      0.88         9\n",
            "\n",
            "    accuracy                           0.92        24\n",
            "   macro avg       0.94      0.89      0.91        24\n",
            "weighted avg       0.93      0.92      0.91        24\n",
            "\n"
          ]
        }
      ]
    },
    {
      "cell_type": "code",
      "execution_count": 53,
      "metadata": {
        "colab": {
          "base_uri": "https://localhost:8080/",
          "height": 312
        },
        "id": "poMQdbXsHVIw",
        "outputId": "453d5e4b-0d2f-4f6d-c4b8-684ab97d76c6"
      },
      "outputs": [
        {
          "output_type": "execute_result",
          "data": {
            "text/plain": [
              "Text(0.5, 1.0, 'Neural Network Confusion Matrix')"
            ]
          },
          "metadata": {},
          "execution_count": 53
        },
        {
          "output_type": "display_data",
          "data": {
            "text/plain": [
              "<Figure size 432x288 with 2 Axes>"
            ],
            "image/png": "[encoded data removed]"
          },
          "metadata": {
            "needs_background": "light"
          }
        }
      ],
      "source": [
        "#plotting a confusion matrix to see how good our predictions does on a the datasets\n",
        "import matplotlib.pyplot as plt\n",
        "import seaborn as sns\n",
        "cm_nn = confusion_matrix(y_test, pred.round())\n",
        "\n",
        "ax = plt.subplot()\n",
        "sns.heatmap(cm_nn, annot=True, ax = ax, fmt='g', cmap='Greens') \n",
        "\n",
        "# Labels, title and ticks\n",
        "ax.set_xlabel('Predicted labels')\n",
        "ax.set_ylabel('True labels') \n",
        "ax.set_title('Neural Network Confusion Matrix') "
      ]
    },
    {
      "cell_type": "code",
      "execution_count": null,
      "metadata": {
        "colab": {
          "base_uri": "https://localhost:8080/",
          "height": 638
        },
        "id": "iCOJqpLKVcQk",
        "outputId": "f1695243-af32-48cf-bae7-7b67d292bc51"
      },
      "outputs": [
        {
          "output_type": "stream",
          "name": "stdout",
          "text": [
            "roc_auc_score for CNN:  0.8529411764705882\n"
          ]
        },
        {
          "output_type": "display_data",
          "data": {
            "text/plain": [
              "<Figure size 720x720 with 1 Axes>"
            ],
            "image/png": "[encoded data removed]"
          },
          "metadata": {
            "needs_background": "light"
          }
        }
      ],
      "source": [
        "# plot for CNN\n",
        "false_positive_rate1, true_positive_rate1, threshold1 = roc_curve(y_test, pred.round())\n",
        "print('roc_auc_score for CNN: ', roc_auc_score(y_test, pred.round()))\n",
        "\n",
        "plt.subplots(1, figsize=(10,10))\n",
        "plt.title('Receiver Operating Characteristic - CNN')\n",
        "plt.plot(false_positive_rate1, true_positive_rate1)\n",
        "plt.plot([0, 1], ls=\"--\")\n",
        "plt.plot([0, 0], [1, 0] , c=\".7\"), plt.plot([1, 1] , c=\".7\")\n",
        "plt.ylabel('True Positive Rate')\n",
        "plt.xlabel('False Positive Rate')\n",
        "plt.show()"
      ]
    },
    {
      "cell_type": "code",
      "execution_count": 71,
      "metadata": {
        "id": "SYUyqmx-akB2"
      },
      "outputs": [],
      "source": [
        "#==========================MY ANN MODEL===============================\n",
        "\n",
        "# Initialising the ANN\n",
        "model_ann = Sequential()\n",
        "\n",
        "# Adding the input layer and the first hidden layer\n",
        "model_ann.add(Dense(units = 8, kernel_initializer = 'uniform', activation = 'relu', input_dim = 7))\n",
        "\n",
        "# Adding the second hidden layer\n",
        "model_ann.add(Dense(units = 8, kernel_initializer = 'uniform', activation = 'relu'))\n",
        "\n",
        "# Adding the output layer\n",
        "model_ann.add(Dense(units = 1, kernel_initializer = 'uniform', activation = 'sigmoid'))\n",
        "\n",
        "# Compiling the ANN\n",
        "model_ann.compile(optimizer = 'adam', loss = 'binary_crossentropy', metrics = METRICS)"
      ]
    },
    {
      "cell_type": "markdown",
      "source": [
        "Fitting the model"
      ],
      "metadata": {
        "id": "Tc_B3_jMY0mE"
      }
    },
    {
      "cell_type": "code",
      "source": [
        "# Fitting the ANN to the Training set\n",
        "history = model_ann.fit(X_train, y_train, batch_size = 10, epochs = 10)"
      ],
      "metadata": {
        "colab": {
          "base_uri": "https://localhost:8080/"
        },
        "id": "WCS79iVZYyzs",
        "outputId": "24e913c5-dec0-44ca-d300-2d2fd24fbfd0"
      },
      "execution_count": 73,
      "outputs": [
        {
          "output_type": "stream",
          "name": "stdout",
          "text": [
            "Epoch 1/10\n",
            "10/10 [==============================] - 0s 7ms/step - loss: 0.6340 - accuracy: 1.0000 - precision: 0.5309 - recall: 1.0000 - auc: 0.9291 - f1_score: 1.0436\n",
            "Epoch 2/10\n",
            "10/10 [==============================] - 0s 4ms/step - loss: 0.6226 - accuracy: 1.0000 - precision: 0.5513 - recall: 1.0000 - auc: 0.9357 - f1_score: 1.0393\n",
            "Epoch 3/10\n",
            "10/10 [==============================] - 0s 4ms/step - loss: 0.6122 - accuracy: 1.0000 - precision: 0.5733 - recall: 1.0000 - auc: 0.9375 - f1_score: 1.0764\n",
            "Epoch 4/10\n",
            "10/10 [==============================] - 0s 4ms/step - loss: 0.6021 - accuracy: 1.0000 - precision: 0.5811 - recall: 1.0000 - auc: 0.9342 - f1_score: 1.0974\n",
            "Epoch 5/10\n",
            "10/10 [==============================] - 0s 3ms/step - loss: 0.5907 - accuracy: 1.0000 - precision: 0.6056 - recall: 1.0000 - auc: 0.9346 - f1_score: 1.0882\n",
            "Epoch 6/10\n",
            "10/10 [==============================] - 0s 4ms/step - loss: 0.5797 - accuracy: 1.0000 - precision: 0.6056 - recall: 1.0000 - auc: 0.9315 - f1_score: 1.1180\n",
            "Epoch 7/10\n",
            "10/10 [==============================] - 0s 4ms/step - loss: 0.5694 - accuracy: 1.0000 - precision: 0.6324 - recall: 1.0000 - auc: 0.9247 - f1_score: 1.0710\n",
            "Epoch 8/10\n",
            "10/10 [==============================] - 0s 3ms/step - loss: 0.5580 - accuracy: 1.0000 - precision: 0.6935 - recall: 1.0000 - auc: 0.9307 - f1_score: 1.1941\n",
            "Epoch 9/10\n",
            "10/10 [==============================] - 0s 4ms/step - loss: 0.5413 - accuracy: 1.0000 - precision: 0.6935 - recall: 1.0000 - auc: 0.9399 - f1_score: 1.2183\n",
            "Epoch 10/10\n",
            "10/10 [==============================] - 0s 3ms/step - loss: 0.5277 - accuracy: 1.0000 - precision: 0.7544 - recall: 1.0000 - auc: 0.9364 - f1_score: 1.2875\n"
          ]
        }
      ]
    },
    {
      "cell_type": "code",
      "execution_count": 65,
      "metadata": {
        "id": "1F3BYzQPGeD-",
        "colab": {
          "base_uri": "https://localhost:8080/"
        },
        "outputId": "890ec6cb-1555-4a94-f60c-c34572d472e7"
      },
      "outputs": [
        {
          "output_type": "stream",
          "name": "stdout",
          "text": [
            "Neural network accuracy:  (0.375, 3)\n"
          ]
        }
      ],
      "source": [
        "# Network accuracy with ACCURACY SCORE\n",
        "pred1 = model_ann.predict(X_test)\n",
        "print(\"Neural network accuracy: \", (accuracy_score(y_test, pred1.round()), 3))"
      ]
    },
    {
      "cell_type": "code",
      "source": [
        "# using classification report to test our predication\n",
        "matrix = classification_report(pred1.round(), y_test)\n",
        "print('this is the classification report fot ANN\\n',matrix)"
      ],
      "metadata": {
        "colab": {
          "base_uri": "https://localhost:8080/"
        },
        "id": "XPItv1ulWUQE",
        "outputId": "fac2ef5a-1766-4b94-853d-1d1ba98814a2"
      },
      "execution_count": 68,
      "outputs": [
        {
          "output_type": "stream",
          "name": "stdout",
          "text": [
            "this is the classification report fot ANN\n",
            "               precision    recall  f1-score   support\n",
            "\n",
            "         0.0       0.12      1.00      0.21         2\n",
            "         1.0       1.00      0.32      0.48        22\n",
            "\n",
            "    accuracy                           0.38        24\n",
            "   macro avg       0.56      0.66      0.35        24\n",
            "weighted avg       0.93      0.38      0.46        24\n",
            "\n"
          ]
        }
      ]
    },
    {
      "cell_type": "code",
      "execution_count": 70,
      "metadata": {
        "colab": {
          "base_uri": "https://localhost:8080/",
          "height": 312
        },
        "id": "R411NHMJE3JW",
        "outputId": "ea09f48d-f41f-4db8-f3ec-6e1b7f436e4c"
      },
      "outputs": [
        {
          "output_type": "execute_result",
          "data": {
            "text/plain": [
              "Text(0.5, 1.0, 'Neural Network Confusion Matrix')"
            ]
          },
          "metadata": {},
          "execution_count": 70
        },
        {
          "output_type": "display_data",
          "data": {
            "text/plain": [
              "<Figure size 432x288 with 2 Axes>"
            ],
            "image/png": "[encoded data removed]"
          },
          "metadata": {
            "needs_background": "light"
          }
        }
      ],
      "source": [
        "#plotting a confusion matrix to see how good our predictions does on a the datasets\n",
        "cm_nn = confusion_matrix(y_test, pred1.round())\n",
        "\n",
        "ax = plt.subplot()\n",
        "sns.heatmap(cm_nn, annot=True, ax = ax, fmt='g', cmap='Greens') \n",
        "\n",
        "# Labels, title and ticks\n",
        "ax.set_xlabel('Predicted labels')\n",
        "ax.set_ylabel('True labels') \n",
        "ax.set_title('Neural Network Confusion Matrix') "
      ]
    },
    {
      "cell_type": "code",
      "source": [
        "false_positive_rate1, true_positive_rate1, threshold1 = roc_curve(y_test, pred1.round())\n",
        "print('roc_auc_score for ANN: ', roc_auc_score(y_test, pred1.round()))\n",
        "\n",
        "plt.subplots(1, figsize=(10,10))\n",
        "plt.title('Receiver Operating Characteristic - ANN')\n",
        "plt.plot(false_positive_rate1, true_positive_rate1)\n",
        "plt.plot([0, 1], ls=\"--\")\n",
        "plt.plot([0, 0], [1, 0] , c=\".7\"), plt.plot([1, 1] , c=\".7\")\n",
        "plt.ylabel('True Positive Rate')\n",
        "plt.xlabel('False Positive Rate')\n",
        "plt.show()"
      ],
      "metadata": {
        "colab": {
          "base_uri": "https://localhost:8080/",
          "height": 638
        },
        "id": "y2bl8EMgebY6",
        "outputId": "d8222d8c-91f9-43b1-ec52-3354a2c8b57a"
      },
      "execution_count": 48,
      "outputs": [
        {
          "output_type": "stream",
          "name": "stdout",
          "text": [
            "roc_auc_score for ANN:  0.7352941176470589\n"
          ]
        },
        {
          "output_type": "display_data",
          "data": {
            "text/plain": [
              "<Figure size 720x720 with 1 Axes>"
            ],
            "image/png": "[encoded data removed]"
          },
          "metadata": {
            "needs_background": "light"
          }
        }
      ]
    },
    {
      "cell_type": "code",
      "execution_count": null,
      "metadata": {
        "id": "D0AkM63qGYzQ"
      },
      "outputs": [],
      "source": [
        "input_shape = [X_train.shape[1]]"
      ]
    },
    {
      "cell_type": "code",
      "execution_count": null,
      "metadata": {
        "colab": {
          "base_uri": "https://localhost:8080/"
        },
        "id": "dmDo6DfdGmBE",
        "outputId": "a4f04ca0-b1ba-49d0-d59c-6ed637671b9a"
      },
      "outputs": [
        {
          "output_type": "stream",
          "name": "stdout",
          "text": [
            "Model: \"sequential_3\"\n",
            "_________________________________________________________________\n",
            " Layer (type)                Output Shape              Param #   \n",
            "=================================================================\n",
            " batch_normalization (BatchN  (None, 7)                28        \n",
            " ormalization)                                                   \n",
            "                                                                 \n",
            " dropout (Dropout)           (None, 7)                 0         \n",
            "                                                                 \n",
            " flatten (Flatten)           (None, 7)                 0         \n",
            "                                                                 \n",
            " dense_9 (Dense)             (None, 512)               4096      \n",
            "                                                                 \n",
            " batch_normalization_1 (Batc  (None, 512)              2048      \n",
            " hNormalization)                                                 \n",
            "                                                                 \n",
            " dropout_1 (Dropout)         (None, 512)               0         \n",
            "                                                                 \n",
            " dense_10 (Dense)            (None, 512)               262656    \n",
            "                                                                 \n",
            " batch_normalization_2 (Batc  (None, 512)              2048      \n",
            " hNormalization)                                                 \n",
            "                                                                 \n",
            " dropout_2 (Dropout)         (None, 512)               0         \n",
            "                                                                 \n",
            " dense_11 (Dense)            (None, 1)                 513       \n",
            "                                                                 \n",
            "=================================================================\n",
            "Total params: 271,389\n",
            "Trainable params: 269,327\n",
            "Non-trainable params: 2,062\n",
            "_________________________________________________________________\n"
          ]
        }
      ],
      "source": [
        "model_rnn = Sequential()\n",
        "model_rnn.add(BatchNormalization(input_shape=input_shape))\n",
        "#model1.add(SimpleRNN(128))\n",
        "model_rnn.add(Dropout(0.3))\n",
        "model_rnn.add(Flatten()) # flatten out the layers\n",
        "model_rnn.add(Dense(512,activation='relu'))\n",
        "model_rnn.add(BatchNormalization())\n",
        "model_rnn.add(Dropout(0.3))\n",
        "model_rnn.add(Dense(512,activation='relu'))\n",
        "model_rnn.add(BatchNormalization())\n",
        "model_rnn.add(Dropout(0.3))\n",
        "model_rnn.add(Dense(1, activation='sigmoid'))\n",
        "model_rnn.summary()"
      ]
    },
    {
      "cell_type": "markdown",
      "source": [
        "Fitting the model"
      ],
      "metadata": {
        "id": "D8jbXU-nPb-y"
      }
    },
    {
      "cell_type": "code",
      "execution_count": 44,
      "metadata": {
        "colab": {
          "base_uri": "https://localhost:8080/"
        },
        "id": "vvJAKjT5F7ZI",
        "outputId": "36df1d7c-a03b-4a2d-b4fb-30899ef8c2f5"
      },
      "outputs": [
        {
          "output_type": "stream",
          "name": "stdout",
          "text": [
            "Epoch 1/10\n",
            "10/10 [==============================] - 2s 7ms/step - loss: 0.2366 - accuracy: 1.0000 - precision: 0.6942 - recall: 0.9767 - auc: 0.9449 - f1_score: 1.3893\n",
            "Epoch 2/10\n",
            "10/10 [==============================] - 0s 7ms/step - loss: 0.0950 - accuracy: 1.0000 - precision: 0.8936 - recall: 0.9767 - auc: 0.9956 - f1_score: 1.3638\n",
            "Epoch 3/10\n",
            "10/10 [==============================] - 0s 6ms/step - loss: 0.0680 - accuracy: 1.0000 - precision: 0.9535 - recall: 0.9535 - auc: 0.9982 - f1_score: 1.4319\n",
            "Epoch 4/10\n",
            "10/10 [==============================] - 0s 9ms/step - loss: 0.1230 - accuracy: 1.0000 - precision: 1.0000 - recall: 0.9535 - auc: 0.9844 - f1_score: 1.4750\n",
            "Epoch 5/10\n",
            "10/10 [==============================] - 0s 7ms/step - loss: 0.1149 - accuracy: 1.0000 - precision: 0.9524 - recall: 0.9302 - auc: 0.9917 - f1_score: 1.4117\n",
            "Epoch 6/10\n",
            "10/10 [==============================] - 0s 7ms/step - loss: 0.2111 - accuracy: 1.0000 - precision: 0.8913 - recall: 0.9535 - auc: 0.9811 - f1_score: 1.3583\n",
            "Epoch 7/10\n",
            "10/10 [==============================] - 0s 7ms/step - loss: 0.1867 - accuracy: 1.0000 - precision: 0.9524 - recall: 0.9302 - auc: 0.9761 - f1_score: 1.4162\n",
            "Epoch 8/10\n",
            "10/10 [==============================] - 0s 7ms/step - loss: 0.0413 - accuracy: 1.0000 - precision: 0.9762 - recall: 0.9535 - auc: 0.9991 - f1_score: 1.4489\n",
            "Epoch 9/10\n",
            "10/10 [==============================] - 0s 7ms/step - loss: 0.1400 - accuracy: 1.0000 - precision: 0.9333 - recall: 0.9767 - auc: 0.9895 - f1_score: 1.4233\n",
            "Epoch 10/10\n",
            "10/10 [==============================] - 0s 6ms/step - loss: 0.1777 - accuracy: 1.0000 - precision: 0.8696 - recall: 0.9302 - auc: 0.9873 - f1_score: 1.3166\n"
          ]
        }
      ],
      "source": [
        "#X_train.shape[1]\n",
        "model_rnn.compile(optimizer = 'adam', loss = 'binary_crossentropy', metrics = METRICS)\n",
        "history2 = model_rnn.fit(X_train, y_train, batch_size = 10, epochs = 10)"
      ]
    },
    {
      "cell_type": "code",
      "source": [
        "pred2 = model_rnn.predict(X_test)\n",
        "# Network accuracy with ACCURACY SCORE\n",
        "print(\"Neural network accuracy: \", (accuracy_score(y_test, pred2.round()), 3))"
      ],
      "metadata": {
        "id": "X1Dw0ZbDfjf6",
        "colab": {
          "base_uri": "https://localhost:8080/"
        },
        "outputId": "5bfd583a-46c7-445a-ad4d-6a925664fdb8"
      },
      "execution_count": 66,
      "outputs": [
        {
          "output_type": "stream",
          "name": "stdout",
          "text": [
            "WARNING:tensorflow:6 out of the last 9 calls to <function Model.make_predict_function.<locals>.predict_function at 0x7fba3ff9b170> triggered tf.function retracing. Tracing is expensive and the excessive number of tracings could be due to (1) creating @tf.function repeatedly in a loop, (2) passing tensors with different shapes, (3) passing Python objects instead of tensors. For (1), please define your @tf.function outside of the loop. For (2), @tf.function has experimental_relax_shapes=True option that relaxes argument shapes that can avoid unnecessary retracing. For (3), please refer to https://www.tensorflow.org/guide/function#controlling_retracing and https://www.tensorflow.org/api_docs/python/tf/function for  more details.\n",
            "Neural network accuracy:  (1.0, 3)\n"
          ]
        }
      ]
    },
    {
      "cell_type": "code",
      "source": [
        "# using classification report to test our predication\n",
        "matrix = classification_report(pred2.round(), y_test)\n",
        "print('this is the classification report fot RNN\\n',matrix)"
      ],
      "metadata": {
        "colab": {
          "base_uri": "https://localhost:8080/"
        },
        "id": "E6-XkdXlWFEw",
        "outputId": "84de8af5-80ab-4326-9b10-147b2a9190bb"
      },
      "execution_count": 69,
      "outputs": [
        {
          "output_type": "stream",
          "name": "stdout",
          "text": [
            "this is the classification report fot RNN\n",
            "               precision    recall  f1-score   support\n",
            "\n",
            "         0.0       1.00      1.00      1.00        17\n",
            "         1.0       1.00      1.00      1.00         7\n",
            "\n",
            "    accuracy                           1.00        24\n",
            "   macro avg       1.00      1.00      1.00        24\n",
            "weighted avg       1.00      1.00      1.00        24\n",
            "\n"
          ]
        }
      ]
    },
    {
      "cell_type": "code",
      "execution_count": 46,
      "metadata": {
        "id": "YqonfJIUGlmg",
        "colab": {
          "base_uri": "https://localhost:8080/",
          "height": 312
        },
        "outputId": "83b6b6b2-3119-4854-e639-9bc0efd94368"
      },
      "outputs": [
        {
          "output_type": "execute_result",
          "data": {
            "text/plain": [
              "1.0"
            ]
          },
          "metadata": {},
          "execution_count": 46
        },
        {
          "output_type": "display_data",
          "data": {
            "text/plain": [
              "<Figure size 432x288 with 2 Axes>"
            ],
            "image/png": "[encoded data removed]"
          },
          "metadata": {
            "needs_background": "light"
          }
        }
      ],
      "source": [
        "#plotting a confusion matrix to see how good our predictions does on a the datasets\n",
        "cm_nn = confusion_matrix(y_test, pred2.round())\n",
        "\n",
        "ax = plt.subplot()\n",
        "sns.heatmap(cm_nn, annot=True, ax = ax, fmt='g', cmap='Greens') \n",
        "\n",
        "# Labels, title and ticks\n",
        "ax.set_xlabel('Predicted labels')\n",
        "ax.set_ylabel('True labels') \n",
        "ax.set_title('Neural Network Confusion Matrix') \n",
        "\n",
        "accuracy_score(y_test, pred2.round())"
      ]
    },
    {
      "cell_type": "code",
      "source": [
        "false_positive_rate1, true_positive_rate1, threshold1 = roc_curve(y_test, pred2.round())\n",
        "print('roc_auc_score for RNN: ', roc_auc_score(y_test, pred2.round()))\n",
        "\n",
        "plt.subplots(1, figsize=(10,10))\n",
        "plt.title('Receiver Operating Characteristic - RNN')\n",
        "plt.plot(false_positive_rate1, true_positive_rate1)\n",
        "plt.plot([0, 1], ls=\"--\")\n",
        "plt.plot([0, 0], [1, 0] , c=\".7\"), plt.plot([1, 1] , c=\".7\")\n",
        "plt.ylabel('True Positive Rate')\n",
        "plt.xlabel('False Positive Rate')\n",
        "plt.show()"
      ],
      "metadata": {
        "colab": {
          "base_uri": "https://localhost:8080/",
          "height": 638
        },
        "id": "YQfTZKcOgDUu",
        "outputId": "4a1384c7-2b75-4e24-a1f6-e054a7d99509"
      },
      "execution_count": null,
      "outputs": [
        {
          "output_type": "stream",
          "name": "stdout",
          "text": [
            "roc_auc_score for RNN:  1.0\n"
          ]
        },
        {
          "output_type": "display_data",
          "data": {
            "text/plain": [
              "<Figure size 720x720 with 1 Axes>"
            ],
            "image/png": "[encoded data removed]"
          },
          "metadata": {
            "needs_background": "light"
          }
        }
      ]
    },
    {
      "cell_type": "code",
      "source": [
        ""
      ],
      "metadata": {
        "id": "SMN7A-NlgMjV"
      },
      "execution_count": null,
      "outputs": []
    }
  ],
  "metadata": {
    "colab": {
      "collapsed_sections": [],
      "name": "Urinary tract infection.ipynb",
      "provenance": []
    },
    "kernelspec": {
      "display_name": "Python 3",
      "name": "python3"
    },
    "language_info": {
      "name": "python"
    }
  },
  "nbformat": 4,
  "nbformat_minor": 0
}